{
 "cells": [
  {
   "cell_type": "markdown",
   "metadata": {},
   "source": [
    "### 1. Loading Required Packages"
   ]
  },
  {
   "cell_type": "code",
   "execution_count": 52,
   "metadata": {
    "_cell_guid": "b1076dfc-b9ad-4769-8c92-a6c4dae69d19",
    "_uuid": "8f2839f25d086af736a60e9eeb907d3b93b6e0e5"
   },
   "outputs": [],
   "source": [
    "import pandas as pd\n",
    "from sklearn.model_selection import train_test_split\n",
    "from sklearn.feature_extraction.text import CountVectorizer\n",
    "from sklearn.linear_model import LogisticRegression\n",
    "from sklearn.metrics import accuracy_score, classification_report, confusion_matrix\n",
    "import seaborn as sns"
   ]
  },
  {
   "cell_type": "markdown",
   "metadata": {},
   "source": [
    "### 2. Data Import and Preparation"
   ]
  },
  {
   "cell_type": "code",
   "execution_count": 53,
   "metadata": {
    "_cell_guid": "79c7e3d0-c299-4dcb-8224-4455121ee9b0",
    "_uuid": "d629ff2d2480ee46fbb7e2d37f6b5fab8052498a"
   },
   "outputs": [],
   "source": [
    "# Importing datasets\n",
    "train = pd.read_csv(\"../train.csv\")\n",
    "test = pd.read_csv(\"../test.csv\")\n",
    "submission = pd.read_csv(\"../sample_submission.csv\")\n",
    "\n",
    "# Splitting the dataset into train and test\n",
    "\n",
    "X = train[\"Comment\"]\n",
    "y = train[\"Outcome\"]\n",
    "\n",
    "X_train, X_test, y_train, y_test = train_test_split(X, y, test_size = 0.05, random_state = 2)\n"
   ]
  },
  {
   "cell_type": "markdown",
   "metadata": {},
   "source": [
    "### 3. Final Submission Model - Logistic Regression\n",
    "Key Features:\n",
    "* Trained on 95% data\n",
    "* C = 0.03\n",
    "* Customized token_pattern in CountVectorizer"
   ]
  },
  {
   "cell_type": "markdown",
   "metadata": {},
   "source": [
    "#### 3.1 Data Preprocessing and Feature Engineering with *CountVectorizer()*"
   ]
  },
  {
   "cell_type": "code",
   "execution_count": 54,
   "metadata": {},
   "outputs": [],
   "source": [
    "# Preprocessing with CountVectorizer\n",
    "\n",
    "## Building a custom token_pattern based on EDA results for enhancing the model performance\n",
    "custom_token = r'(?u)\\b\\w\\w+\\b|\\!|\\?|\\\"|\\'|\\{|\\}|\\=|\\<|\\>|\\#|\\[|\\]|\\~|\\:|\\,|\\_|\\:|\\*|\\+|\\-|\\/|\\@|\\||\\<=|\\=>|\\$|\\&|\\&&|\\^|\\!|\\(|\\)|\\%'\n",
    "\n",
    "cnt_vec = CountVectorizer(token_pattern =  custom_token, \n",
    "                          ngram_range = (1,3), \n",
    "                          binary = True, \n",
    "                          max_features = 100000000, \n",
    "                          analyzer = \"word\")\n",
    "\n",
    "X_train = cnt_vec.fit_transform(X_train)\n",
    "X_test = cnt_vec.transform(X_test)\n",
    "\n",
    "# Actual test data\n",
    "test_data_x = test[\"Comment\"]\n",
    "test_data_x = cnt_vec.transform(test_data_x)"
   ]
  },
  {
   "cell_type": "markdown",
   "metadata": {},
   "source": [
    "#### 3.2 Model Building and Validation"
   ]
  },
  {
   "cell_type": "code",
   "execution_count": 55,
   "metadata": {},
   "outputs": [
    {
     "name": "stdout",
     "output_type": "stream",
     "text": [
      "Accuracy of Logistic Regression model = 0.7452488687782806\n"
     ]
    }
   ],
   "source": [
    "# Logistic Regression\n",
    "\n",
    "logitreg = LogisticRegression(penalty='l2', C = 0.03, solver='lbfgs', max_iter = 300, random_state = 10)\n",
    "logitreg.fit(X_train, y_train)\n",
    "y_pred = logitreg.predict(X_test)\n",
    "print(\"Accuracy of Logistic Regression model =\", accuracy_score(y_pred, y_test))"
   ]
  },
  {
   "cell_type": "code",
   "execution_count": 56,
   "metadata": {},
   "outputs": [
    {
     "name": "stdout",
     "output_type": "stream",
     "text": [
      "Classification report\n",
      "              precision    recall  f1-score   support\n",
      "\n",
      "           0       0.71      0.69      0.70       945\n",
      "           1       0.77      0.79      0.78      1265\n",
      "\n",
      "    accuracy                           0.75      2210\n",
      "   macro avg       0.74      0.74      0.74      2210\n",
      "weighted avg       0.74      0.75      0.74      2210\n",
      "\n"
     ]
    },
    {
     "data": {
      "image/png": "[encoded data removed]",
      "text/plain": [
       "<Figure size 432x288 with 2 Axes>"
      ]
     },
     "metadata": {},
     "output_type": "display_data"
    }
   ],
   "source": [
    "# Classification report\n",
    "print(\"Classification report\")\n",
    "print(classification_report(y_test, y_pred))\n",
    "\n",
    "# Confusion Matrix\n",
    "cm = confusion_matrix(logitreg.predict(X_test),y_test)\n",
    "cm_df = pd.DataFrame(C, range(2),range(2))\n",
    "sns.set(font_scale=2)\n",
    "plot = sns.heatmap(cm_df, annot = True, annot_kws={\"size\":15}, cmap = \"Blues\",  fmt='g')"
   ]
  },
  {
   "cell_type": "markdown",
   "metadata": {},
   "source": [
    "#### 3.3 Creating Submission File\n",
    "Final submission file : submission11_95pc_traindata.csv"
   ]
  },
  {
   "cell_type": "code",
   "execution_count": 57,
   "metadata": {},
   "outputs": [],
   "source": [
    "predictions = logitreg.predict(test_data_x)\n",
    "\n",
    "submission[\"Outcome\"] = predictions\n",
    "\n",
    "sub_file = pd.DataFrame({\"Id\" : submission['Id'], \"Outcome\": submission[\"Outcome\"]})\n",
    "sub_file.to_csv(\"submission11_95pc_traindata.csv\", index = False)"
   ]
  },
  {
   "cell_type": "markdown",
   "metadata": {},
   "source": [
    "### 4. Kaggle Score\n",
    "* Rank: 14\n",
    "* Public Score: 0.74420\n",
    "* Private Score: 0.74118"
   ]
  }
 ],
 "metadata": {
  "kernelspec": {
   "display_name": "Python 3",
   "language": "python",
   "name": "python3"
  },
  "language_info": {
   "codemirror_mode": {
    "name": "ipython",
    "version": 3
   },
   "file_extension": ".py",
   "mimetype": "text/x-python",
   "name": "python",
   "nbconvert_exporter": "python",
   "pygments_lexer": "ipython3",
   "version": "3.7.6"
  }
 },
 "nbformat": 4,
 "nbformat_minor": 4
}
